{
 "cells": [
  {
   "cell_type": "markdown",
   "metadata": {},
   "source": [
    "<img src=\"../Base/images/liga logo.png\" width=\"500\"/>"
   ]
  },
  {
   "cell_type": "markdown",
   "metadata": {},
   "source": [
    "<img src=\"../Base/images/python logo.png\" width=\"165\"/>"
   ]
  },
  {
   "cell_type": "markdown",
   "metadata": {},
   "source": [
    "<center>\n",
    "\n",
    "    \n",
    "# Курс \"Основы программирования на Python\""
   ]
  },
  {
   "cell_type": "markdown",
   "metadata": {},
   "source": [
    "## 5. Условные операторы и циклы\n",
    "\n",
    "### 5.1 Условный оператор ветвления if\n",
    "\n",
    "Оператор ветвления `if`  позволяет выполнить определенный набор инструкций в зависимости от некоторого условия. Возможны следующие варианты использования.\n",
    "\n",
    "#### 5.1.1 Конструкция if\n",
    "\n",
    "Синтаксис оператора `if` выглядит так.\n",
    "\n",
    "```python\n",
    "if выражение:\n",
    "    инструкция_1\n",
    "    инструкция_2\n",
    "    ...\n",
    "    инструкция_n\n",
    "```\n",
    "\n",
    "После оператора `if`  записывается выражение. Если это выражение истинно, то выполняются инструкции, определяемые данным оператором. Выражение является истинным, если его результатом является число не равное нулю, непустой объект, либо логическое `True`. После выражения нужно поставить двоеточие `“:”`.\n",
    "\n",
    "**Важно:** Блок кода, который необходимо выполнить, в случае истинности выражения, отделяется четырьмя пробелами слева!\n",
    "\n",
    "Пример:"
   ]
  },
  {
   "cell_type": "code",
   "execution_count": 1,
   "metadata": {},
   "outputs": [
    {
     "name": "stdout",
     "output_type": "stream",
     "text": [
      "hello 1\n"
     ]
    }
   ],
   "source": [
    "if 1:\n",
    "    print(\"hello 1\")"
   ]
  },
  {
   "cell_type": "code",
   "execution_count": 2,
   "metadata": {},
   "outputs": [
    {
     "name": "stdout",
     "output_type": "stream",
     "text": [
      "hello 2\n"
     ]
    }
   ],
   "source": [
    "a = 3\n",
    "\n",
    "if a == 3:\n",
    "    print(\"hello 2\")"
   ]
  },
  {
   "cell_type": "code",
   "execution_count": 3,
   "metadata": {},
   "outputs": [
    {
     "name": "stdout",
     "output_type": "stream",
     "text": [
      "hello 3\n"
     ]
    }
   ],
   "source": [
    "a = 3\n",
    "\n",
    "if a > 1:\n",
    "    print(\"hello 3\")"
   ]
  },
  {
   "cell_type": "code",
   "execution_count": 4,
   "metadata": {},
   "outputs": [
    {
     "name": "stdout",
     "output_type": "stream",
     "text": [
      "hello 4\n"
     ]
    }
   ],
   "source": [
    "lst = [1, 2, 3]\n",
    "if lst :\n",
    "    print(\"hello 4\")"
   ]
  },
  {
   "cell_type": "markdown",
   "metadata": {},
   "source": [
    "#### 5.1.2 Конструкция if – else\n",
    "\n",
    "Бывают случаи, когда необходимо предусмотреть альтернативный вариант выполнения программы. Т.е. при истинном условии нужно выполнить один набор инструкций, при ложном – другой. Для этого используется конструкция `if – else`.\n",
    "\n",
    "```python\n",
    "if выражение:\n",
    "    инструкция_1\n",
    "    инструкция_2\n",
    "    ...\n",
    "    инструкция_n\n",
    "else:\n",
    "    инструкция_a\n",
    "    инструкция_b\n",
    "    ...\n",
    "    инструкция_x\n",
    "```\n",
    "\n",
    "Примеры:"
   ]
  },
  {
   "cell_type": "code",
   "execution_count": 5,
   "metadata": {},
   "outputs": [
    {
     "name": "stdout",
     "output_type": "stream",
     "text": [
      "H\n"
     ]
    }
   ],
   "source": [
    "a = 3\n",
    "if a > 2:\n",
    "    print(\"H\")\n",
    "else:\n",
    "    print(\"L\")"
   ]
  },
  {
   "cell_type": "code",
   "execution_count": 6,
   "metadata": {},
   "outputs": [
    {
     "name": "stdout",
     "output_type": "stream",
     "text": [
      "L\n"
     ]
    }
   ],
   "source": [
    "a = 1\n",
    "if a > 2:\n",
    "    print(\"H\")\n",
    "else:\n",
    "    print(\"L\")"
   ]
  },
  {
   "cell_type": "markdown",
   "metadata": {},
   "source": [
    "Условие такого вида можно записать в строчку, в таком случае оно будет представлять собой тернарное выражение (https://ru.wikipedia.org/wiki/Тернарная_условная_операция). "
   ]
  },
  {
   "cell_type": "code",
   "execution_count": 7,
   "metadata": {},
   "outputs": [
    {
     "name": "stdout",
     "output_type": "stream",
     "text": [
      "True\n"
     ]
    }
   ],
   "source": [
    "a = 17\n",
    "b = True if a > 10 else False\n",
    "\n",
    "print(b)"
   ]
  },
  {
   "cell_type": "markdown",
   "metadata": {},
   "source": [
    "#### 5.1.3. Конструкция if – elif – else\n",
    "Для реализации выбора из нескольких альтернатив можно использовать конструкцию `if – elif – else`.\n",
    "\n",
    "\n",
    "```python\n",
    "if выражение_1:\n",
    "    инструкции_(блок_1)\n",
    "elif выражение_2:\n",
    "    инструкции_(блок_2)\n",
    "elif выражение_3:\n",
    "    инструкции_(блок_3)\n",
    "else:\n",
    "    инструкции_(блок_4)\n",
    "```\n",
    "\n",
    "Пример:"
   ]
  },
  {
   "cell_type": "code",
   "execution_count": 8,
   "metadata": {},
   "outputs": [
    {
     "name": "stdout",
     "output_type": "stream",
     "text": [
      "введите число:35\n",
      "Pos\n"
     ]
    }
   ],
   "source": [
    "a = int(input(\"введите число:\"))\n",
    "\n",
    "if a < 0:\n",
    "    print(\"Neg\")\n",
    "elif a == 0:\n",
    "    print(\"Zero\")\n",
    "else:\n",
    "    print(\"Pos\")"
   ]
  },
  {
   "cell_type": "markdown",
   "metadata": {},
   "source": [
    "### 5.2 Оператор цикла while\n",
    "\n",
    "Оператор цикла `while`  выполняет указанный набор инструкций до тех пор, пока условие цикла истинно. Истинность условия определяется также как и в операторе `if`. Синтаксис оператора `while`  выглядит так.\n",
    "\n",
    "```python \n",
    "while выражение:\n",
    "    инструкция_1\n",
    "    инструкция_2\n",
    "    ...\n",
    "    инструкция_n\n",
    "```\n",
    "\n",
    "Выполняемый набор инструкций называется телом цикла.\n",
    "\n",
    "Пример:"
   ]
  },
  {
   "cell_type": "code",
   "execution_count": 9,
   "metadata": {},
   "outputs": [
    {
     "name": "stdout",
     "output_type": "stream",
     "text": [
      "A\n",
      "A\n",
      "A\n",
      "A\n",
      "A\n",
      "A\n",
      "A\n"
     ]
    }
   ],
   "source": [
    "a = 0\n",
    "\n",
    "while a < 7:\n",
    "    print(\"A\")\n",
    "    a += 1"
   ]
  },
  {
   "cell_type": "markdown",
   "metadata": {},
   "source": [
    "Пример бесконечного цикла."
   ]
  },
  {
   "cell_type": "code",
   "execution_count": 10,
   "metadata": {
    "scrolled": true
   },
   "outputs": [],
   "source": [
    "# Нажмите на кнопку стоп в верхнем меню\n",
    "\n",
    "# a = 0\n",
    "\n",
    "# while a == 0:\n",
    "#     print(\"A\")"
   ]
  },
  {
   "cell_type": "markdown",
   "metadata": {},
   "source": [
    "#### 5.2.1 Операторы break и continue\n",
    "\n",
    "При работе с циклами используются операторы `break`  и `continue`.\n",
    "\n",
    "Оператор `break`  предназначен для досрочного прерывания работы цикла `while`.\n",
    "\n",
    "Пример:"
   ]
  },
  {
   "cell_type": "code",
   "execution_count": 11,
   "metadata": {},
   "outputs": [
    {
     "name": "stdout",
     "output_type": "stream",
     "text": [
      "A\n",
      "A\n",
      "A\n",
      "A\n",
      "A\n",
      "A\n",
      "A\n"
     ]
    }
   ],
   "source": [
    "a = 0\n",
    "while a >= 0:\n",
    "    if a == 7:\n",
    "        break\n",
    "    a += 1\n",
    "    print(\"A\")"
   ]
  },
  {
   "cell_type": "markdown",
   "metadata": {},
   "source": [
    "В приведенном выше коде, выход из цикла произойдет при достижении переменной `a` значения 7. Если бы не было этого условия, то цикл выполнялся бы бесконечно.\n",
    "\n",
    "Оператор `continue`  запускает цикл заново, при этом код, расположенный после данного оператора, не выполняется.\n",
    "\n",
    "Пример:"
   ]
  },
  {
   "cell_type": "code",
   "execution_count": 12,
   "metadata": {},
   "outputs": [
    {
     "name": "stdout",
     "output_type": "stream",
     "text": [
      "A\n",
      "A\n",
      "A\n",
      "A\n",
      "A\n",
      "A\n",
      "A\n"
     ]
    }
   ],
   "source": [
    "a = -1\n",
    "while a < 10:\n",
    "    a += 1\n",
    "    if a >= 7:\n",
    "        continue\n",
    "    print(\"A\")"
   ]
  },
  {
   "cell_type": "markdown",
   "metadata": {},
   "source": [
    "При запуске данного кода символ “А” будет напечатан 7 раз, несмотря на то, что всего будет выполнено 11 проходов цикла."
   ]
  },
  {
   "cell_type": "markdown",
   "metadata": {},
   "source": [
    "#### 5.2.2 Оператор цикла for\n",
    "\n",
    "Оператор `for`  выполняет указанный набор инструкций заданное количество раз, которое определяется количеством элементов в наборе.\n",
    "\n",
    "Пример:"
   ]
  },
  {
   "cell_type": "code",
   "execution_count": 13,
   "metadata": {},
   "outputs": [
    {
     "name": "stdout",
     "output_type": "stream",
     "text": [
      "Hello\n",
      "Hello\n",
      "Hello\n",
      "Hello\n",
      "Hello\n"
     ]
    }
   ],
   "source": [
    "for i in range(5):\n",
    "    print(\"Hello\")"
   ]
  },
  {
   "cell_type": "markdown",
   "metadata": {},
   "source": [
    "В результате “Hello” будет выведено пять раз.\n",
    "\n",
    "Внутри тела цикла можно использовать операторы `break` и `continue`, принцип работы их точно такой же как и в операторе `while`.\n",
    "\n",
    "Если у вас есть заданный список, и вы хотите выполнить над каждым элементом определенную операцию (возвести в квадрат и напечатать получившееся число), то с помощью `for` такая задача решается так."
   ]
  },
  {
   "cell_type": "code",
   "execution_count": 14,
   "metadata": {},
   "outputs": [
    {
     "name": "stdout",
     "output_type": "stream",
     "text": [
      "1\n",
      "9\n",
      "25\n",
      "49\n",
      "81\n"
     ]
    }
   ],
   "source": [
    "lst = [1, 3, 5, 7, 9]\n",
    "for i in lst:\n",
    "    print(i ** 2)"
   ]
  },
  {
   "cell_type": "markdown",
   "metadata": {},
   "source": [
    "Также можно пройти по всем буквам в строке."
   ]
  },
  {
   "cell_type": "code",
   "execution_count": 15,
   "metadata": {},
   "outputs": [
    {
     "name": "stdout",
     "output_type": "stream",
     "text": [
      "H\n",
      "e\n",
      "l\n",
      "l\n",
      "o\n",
      ",\n",
      " \n",
      "w\n",
      "o\n",
      "r\n",
      "l\n",
      "d\n",
      "!\n"
     ]
    }
   ],
   "source": [
    "word_str = \"Hello, world!\"\n",
    "for l in word_str:\n",
    "    print(l)"
   ]
  },
  {
   "cell_type": "markdown",
   "metadata": {},
   "source": [
    "Строка “Hello, world!” будет напечатана в столбик.\n",
    "\n",
    "На этом закончим краткий обзор операторов ветвления и цикла."
   ]
  },
  {
   "cell_type": "markdown",
   "metadata": {},
   "source": [
    "------------------"
   ]
  },
  {
   "cell_type": "markdown",
   "metadata": {},
   "source": [
    "## 6. Работа с файлами\n",
    "\n",
    "### 6.1 Открытие файлов\n",
    "\n",
    "Для начала работы с файлом, его надо открыть.\n",
    "\n",
    "* **`open`**\n",
    "\n",
    "Для открытия файлов, чаще всего, используется функция `open`:\n",
    "\n",
    "```python\n",
    "file = open('file_name.txt', 'r')\n",
    "```\n",
    "\n",
    "В функции `open()`:\n",
    "\n",
    "`'file_name.txt'` - имя файла(тут можно указывать не только имя, но и путь (абсолютный или относительный))\n",
    "`'r'` - режим открытия файла\n",
    "\n",
    "Функция `open` создает объект `file`, к которому потом можно применять различные методы, для работы с ним.\n",
    "\n",
    "Режимы открытия файлов:\n",
    "\n",
    "- `r` - открыть файл только для чтения (значение по умолчанию)\n",
    "- `r+` - открыть файл для чтения и записи\n",
    "- `w` - открыть файл для записи\n",
    "    - если файл существует, то его содержимое удаляется\n",
    "    - если файл не существует, то создается новый\n",
    "- `w+` - открыть файл для чтения и записи\n",
    "    - если файл существует, то его содержимое удаляется\n",
    "    - если файл не существует, то создается новый\n",
    "- `a` - открыть файл для дополнения записи. Данные добавляются в конец файла\n",
    "- `a+` - открыть файл для чтения и записи. Данные добавляются в конец файла\n",
    "\n",
    "*Примечание:*\n",
    "\n",
    "`r` - read; `a`- append; `w` - write\n",
    "\n",
    "\n",
    "### 6.2 Чтение файлов\n",
    "\n",
    "В Python есть несколько методов чтения файла:\n",
    "\n",
    "- `read` - считывает содержимое файла в строку\n",
    "- `readline` - считывает файл построчно\n",
    "- `readlines` - считывает строки файла и создает список из строк\n",
    "\n",
    "```\n",
    "\n",
    "\n",
    "```\n",
    "\n",
    "* **`read`**\n",
    "\n",
    "Метод `read` - считывает весь файл в одну строку.\n",
    "\n",
    "Пример использования метода `read`:"
   ]
  },
  {
   "cell_type": "code",
   "execution_count": 16,
   "metadata": {},
   "outputs": [],
   "source": [
    "f = open('../Base/init_data/r1.txt')"
   ]
  },
  {
   "cell_type": "code",
   "execution_count": 17,
   "metadata": {},
   "outputs": [
    {
     "data": {
      "text/plain": [
       "'!\\nservice timestamps debug datetime msec localtime show-timezone year\\nservice timestamps log datetime msec localtime show-timezone year\\nservice password-encryption\\nservice sequence-numbers\\n!\\nno ip domain lookup\\n!\\nip ssh version 2\\n!'"
      ]
     },
     "execution_count": 17,
     "metadata": {},
     "output_type": "execute_result"
    }
   ],
   "source": [
    "f.read()"
   ]
  },
  {
   "cell_type": "code",
   "execution_count": 18,
   "metadata": {},
   "outputs": [
    {
     "data": {
      "text/plain": [
       "''"
      ]
     },
     "execution_count": 18,
     "metadata": {},
     "output_type": "execute_result"
    }
   ],
   "source": [
    "f.read()"
   ]
  },
  {
   "cell_type": "markdown",
   "metadata": {},
   "source": [
    "При повторном чтении файла в строке выше, отображается пустая строка. Так происходит из-за того, что при вызове метода `read`, считывается весь файл. И после того, как файл был считан, курсор остается в конце файла. Управлять положением курсора можно с помощью метода `seek`.\n",
    "\n",
    "```\n",
    "\n",
    "\n",
    "```\n",
    "\n",
    "* **`readline`**\n",
    "\n",
    "Построчно файл можно считать с помощью метода `readline`:"
   ]
  },
  {
   "cell_type": "code",
   "execution_count": 19,
   "metadata": {},
   "outputs": [
    {
     "data": {
      "text/plain": [
       "'!\\n'"
      ]
     },
     "execution_count": 19,
     "metadata": {},
     "output_type": "execute_result"
    }
   ],
   "source": [
    "f = open('../Base/init_data/r1.txt')\n",
    "\n",
    "f.readline()"
   ]
  },
  {
   "cell_type": "code",
   "execution_count": 20,
   "metadata": {},
   "outputs": [
    {
     "data": {
      "text/plain": [
       "'service timestamps debug datetime msec localtime show-timezone year\\n'"
      ]
     },
     "execution_count": 20,
     "metadata": {},
     "output_type": "execute_result"
    }
   ],
   "source": [
    "f.readline()"
   ]
  },
  {
   "cell_type": "markdown",
   "metadata": {},
   "source": [
    "Но чаще всего проще пройтись по объекту `file` в цикле, не используя методы `read...`:"
   ]
  },
  {
   "cell_type": "code",
   "execution_count": 21,
   "metadata": {},
   "outputs": [],
   "source": [
    "f = open('../Base/init_data/r1.txt')"
   ]
  },
  {
   "cell_type": "code",
   "execution_count": 22,
   "metadata": {},
   "outputs": [
    {
     "name": "stdout",
     "output_type": "stream",
     "text": [
      "!\n",
      "\n",
      "service timestamps debug datetime msec localtime show-timezone year\n",
      "\n",
      "service timestamps log datetime msec localtime show-timezone year\n",
      "\n",
      "service password-encryption\n",
      "\n",
      "service sequence-numbers\n",
      "\n",
      "!\n",
      "\n",
      "no ip domain lookup\n",
      "\n",
      "!\n",
      "\n",
      "ip ssh version 2\n",
      "\n",
      "!\n"
     ]
    }
   ],
   "source": [
    "for line in f:\n",
    "    print(line)"
   ]
  },
  {
   "cell_type": "markdown",
   "metadata": {},
   "source": [
    "* **`readlines`**\n",
    "\n",
    "Еще один полезный метод - `readlines`. Он считывает строки файла в список:"
   ]
  },
  {
   "cell_type": "code",
   "execution_count": 23,
   "metadata": {},
   "outputs": [],
   "source": [
    "f = open('../Base/init_data/r1.txt')"
   ]
  },
  {
   "cell_type": "code",
   "execution_count": 24,
   "metadata": {},
   "outputs": [
    {
     "data": {
      "text/plain": [
       "['!\\n',\n",
       " 'service timestamps debug datetime msec localtime show-timezone year\\n',\n",
       " 'service timestamps log datetime msec localtime show-timezone year\\n',\n",
       " 'service password-encryption\\n',\n",
       " 'service sequence-numbers\\n',\n",
       " '!\\n',\n",
       " 'no ip domain lookup\\n',\n",
       " '!\\n',\n",
       " 'ip ssh version 2\\n',\n",
       " '!']"
      ]
     },
     "execution_count": 24,
     "metadata": {},
     "output_type": "execute_result"
    }
   ],
   "source": [
    "f.readlines()"
   ]
  },
  {
   "cell_type": "markdown",
   "metadata": {},
   "source": [
    "Если нужно получить строки файла, но без перевода строки в конце, можно воспользоваться методом `split` и как разделитель, указать символ `\\n`:\n"
   ]
  },
  {
   "cell_type": "code",
   "execution_count": 25,
   "metadata": {},
   "outputs": [
    {
     "data": {
      "text/plain": [
       "['!',\n",
       " 'service timestamps debug datetime msec localtime show-timezone year',\n",
       " 'service timestamps log datetime msec localtime show-timezone year',\n",
       " 'service password-encryption',\n",
       " 'service sequence-numbers',\n",
       " '!',\n",
       " 'no ip domain lookup',\n",
       " '!',\n",
       " 'ip ssh version 2',\n",
       " '!']"
      ]
     },
     "execution_count": 25,
     "metadata": {},
     "output_type": "execute_result"
    }
   ],
   "source": [
    "f = open('../Base/init_data/r1.txt')\n",
    "\n",
    "f.read().split('\\n')"
   ]
  },
  {
   "cell_type": "markdown",
   "metadata": {},
   "source": [
    "Обратите внимание, что последний элемент списка - пустая строка.\n",
    "\n",
    "Если перед выполнением `split`, воспользоваться методом `rstrip`, список будет без пустой строки в конце:"
   ]
  },
  {
   "cell_type": "code",
   "execution_count": 26,
   "metadata": {},
   "outputs": [
    {
     "data": {
      "text/plain": [
       "['!',\n",
       " 'service timestamps debug datetime msec localtime show-timezone year',\n",
       " 'service timestamps log datetime msec localtime show-timezone year',\n",
       " 'service password-encryption',\n",
       " 'service sequence-numbers',\n",
       " '!',\n",
       " 'no ip domain lookup',\n",
       " '!',\n",
       " 'ip ssh version 2',\n",
       " '!']"
      ]
     },
     "execution_count": 26,
     "metadata": {},
     "output_type": "execute_result"
    }
   ],
   "source": [
    "f = open('../Base/init_data/r1.txt')\n",
    "\n",
    "f.read().rstrip().split('\\n')"
   ]
  },
  {
   "cell_type": "markdown",
   "metadata": {},
   "source": [
    "* **`seek`**\n",
    "\n",
    "До сих пор, файл каждый раз приходилось открывать заново, чтобы снова его считать. Так происходит из-за того, что после методов чтения, курсор находится в конце файла. И повторное чтение возвращает пустую строку.\n",
    "\n",
    "Чтобы ещё раз считать информацию из файла, нужно воспользоваться методом `seek`, который перемещает курсор в необходимое положение.\n",
    "\n",
    "Пример открытия файла и считывания содержимого:"
   ]
  },
  {
   "cell_type": "code",
   "execution_count": 27,
   "metadata": {},
   "outputs": [
    {
     "name": "stdout",
     "output_type": "stream",
     "text": [
      "!\n",
      "service timestamps debug datetime msec localtime show-timezone year\n",
      "service timestamps log datetime msec localtime show-timezone year\n",
      "service password-encryption\n",
      "service sequence-numbers\n",
      "!\n",
      "no ip domain lookup\n",
      "!\n",
      "ip ssh version 2\n",
      "!\n"
     ]
    }
   ],
   "source": [
    "f = open('../Base/init_data/r1.txt')\n",
    "\n",
    "print(f.read())"
   ]
  },
  {
   "cell_type": "markdown",
   "metadata": {},
   "source": [
    "Если вызывать ещё раз метод `read`, возвращается пустая строка:"
   ]
  },
  {
   "cell_type": "code",
   "execution_count": 28,
   "metadata": {},
   "outputs": [
    {
     "name": "stdout",
     "output_type": "stream",
     "text": [
      "\n"
     ]
    }
   ],
   "source": [
    "print(f.read())"
   ]
  },
  {
   "cell_type": "markdown",
   "metadata": {},
   "source": [
    "Но с помощью метода `seek` можно перейти в начало файла (0 означает начало файла):"
   ]
  },
  {
   "cell_type": "code",
   "execution_count": 29,
   "metadata": {},
   "outputs": [
    {
     "data": {
      "text/plain": [
       "0"
      ]
     },
     "execution_count": 29,
     "metadata": {},
     "output_type": "execute_result"
    }
   ],
   "source": [
    "f.seek(0)"
   ]
  },
  {
   "cell_type": "markdown",
   "metadata": {},
   "source": [
    "После того как с помощью `seek` курсор был переведен в начало файла, можно опять считывать содержимое:"
   ]
  },
  {
   "cell_type": "code",
   "execution_count": 30,
   "metadata": {},
   "outputs": [
    {
     "name": "stdout",
     "output_type": "stream",
     "text": [
      "!\n",
      "service timestamps debug datetime msec localtime show-timezone year\n",
      "service timestamps log datetime msec localtime show-timezone year\n",
      "service password-encryption\n",
      "service sequence-numbers\n",
      "!\n",
      "no ip domain lookup\n",
      "!\n",
      "ip ssh version 2\n",
      "!\n"
     ]
    }
   ],
   "source": [
    "print(f.read())"
   ]
  },
  {
   "cell_type": "markdown",
   "metadata": {},
   "source": [
    "### 6.3 Запись файлов\n",
    "\n",
    "\n",
    "При записи, очень важно определиться с режимом открытия файла, чтобы случайно его не удалить:\n",
    "\n",
    "- `w` - открыть файл для записи. Если файл существует, то его содержимое удаляется\n",
    "- `a` - открыть файл для дополнения записи. Данные добавляются в конец файла\n",
    "\n",
    "При этом оба режима создают файл, если он не существует.\n",
    "\n",
    "Для записи в файл используются такие методы:\n",
    "\n",
    "- `write` - записать в файл одну строку\n",
    "- `writelines` - позволяет передавать в качестве аргумента список строк\n",
    "\n",
    "```\n",
    "\n",
    "\n",
    "\n",
    "\n",
    "```\n",
    "\n",
    "\n",
    "\n",
    "* **`write`** \n",
    "\n",
    "Метод `write` ожидает строку, для записи.\n",
    "\n",
    "Для примера, возьмем список строк с конфигурацией:\n",
    "\n"
   ]
  },
  {
   "cell_type": "code",
   "execution_count": 31,
   "metadata": {},
   "outputs": [],
   "source": [
    "cfg_lines = ['!',\n",
    "             'service timestamps debug datetime msec localtime show-timezone year',\n",
    "             'service timestamps log datetime msec localtime show-timezone year',\n",
    "             'service password-encryption',\n",
    "             'service sequence-numbers',\n",
    "             '!',\n",
    "             'no ip domain lookup',\n",
    "             '!',\n",
    "             'ip ssh version 2',\n",
    "             '!']"
   ]
  },
  {
   "cell_type": "code",
   "execution_count": 32,
   "metadata": {},
   "outputs": [],
   "source": [
    "f = open('../Base/init_data/r2.txt', 'w')"
   ]
  },
  {
   "cell_type": "markdown",
   "metadata": {},
   "source": [
    "Преобразуем список команд в одну большую строку с помощью `join`:"
   ]
  },
  {
   "cell_type": "code",
   "execution_count": 33,
   "metadata": {},
   "outputs": [
    {
     "data": {
      "text/plain": [
       "'!\\nservice timestamps debug datetime msec localtime show-timezone year\\nservice timestamps log datetime msec localtime show-timezone year\\nservice password-encryption\\nservice sequence-numbers\\n!\\nno ip domain lookup\\n!\\nip ssh version 2\\n!'"
      ]
     },
     "execution_count": 33,
     "metadata": {},
     "output_type": "execute_result"
    }
   ],
   "source": [
    "cfg_lines_as_string = '\\n'.join(cfg_lines)\n",
    "\n",
    "cfg_lines_as_string"
   ]
  },
  {
   "cell_type": "markdown",
   "metadata": {},
   "source": [
    "Запись строки в файл:"
   ]
  },
  {
   "cell_type": "code",
   "execution_count": 34,
   "metadata": {},
   "outputs": [
    {
     "data": {
      "text/plain": [
       "231"
      ]
     },
     "execution_count": 34,
     "metadata": {},
     "output_type": "execute_result"
    }
   ],
   "source": [
    "f.write(cfg_lines_as_string)"
   ]
  },
  {
   "cell_type": "markdown",
   "metadata": {},
   "source": [
    "Аналогично можно добавить строку вручную:"
   ]
  },
  {
   "cell_type": "code",
   "execution_count": 35,
   "metadata": {},
   "outputs": [
    {
     "data": {
      "text/plain": [
       "12"
      ]
     },
     "execution_count": 35,
     "metadata": {},
     "output_type": "execute_result"
    }
   ],
   "source": [
    "f.write('\\nhostname r2')"
   ]
  },
  {
   "cell_type": "markdown",
   "metadata": {},
   "source": [
    "После завершения работы с файлом, его необходимо закрыть:"
   ]
  },
  {
   "cell_type": "code",
   "execution_count": 36,
   "metadata": {},
   "outputs": [],
   "source": [
    "f.close()"
   ]
  },
  {
   "cell_type": "markdown",
   "metadata": {},
   "source": [
    "### 6.4 Закрытие файлов\n",
    "\n",
    "**Примечание:**\n",
    "\n",
    "В реальной жизни для закрытия файлов чаще всего используется конструкция `with`. Её намного удобней использовать, чем закрывать файл явно. Но, так как в жизни можно встретить и метод `close`, в этом разделе рассматривается как его использовать.\n",
    "\n",
    "После завершения работы с файлом, его нужно закрыть. В некоторых случаях Python может самостоятельно закрыть файл. Но лучше на это не рассчитывать и закрывать файл явно.\n",
    "\n",
    "```\n",
    "\n",
    "\n",
    "```\n",
    "\n",
    "* **`close`**\n",
    "\n",
    "Метод `close` встречался в разделе запись файлов. Там он был нужен для того, чтобы содержимое файла было записано на диск.\n",
    "\n",
    "Для этого, в Python есть отдельный метод `flush`. Но так как в примере с записью файлов, не нужно было больше выполнять никаких операций, файл можно было закрыть.\n",
    "\n",
    "Откроем файл r1.txt:"
   ]
  },
  {
   "cell_type": "code",
   "execution_count": 37,
   "metadata": {},
   "outputs": [],
   "source": [
    "f = open('../Base/init_data/r2.txt')"
   ]
  },
  {
   "cell_type": "markdown",
   "metadata": {},
   "source": [
    "Теперь можно считать содержимое:"
   ]
  },
  {
   "cell_type": "code",
   "execution_count": 38,
   "metadata": {},
   "outputs": [
    {
     "name": "stdout",
     "output_type": "stream",
     "text": [
      "!\n",
      "service timestamps debug datetime msec localtime show-timezone year\n",
      "service timestamps log datetime msec localtime show-timezone year\n",
      "service password-encryption\n",
      "service sequence-numbers\n",
      "!\n",
      "no ip domain lookup\n",
      "!\n",
      "ip ssh version 2\n",
      "!\n",
      "hostname r2\n"
     ]
    }
   ],
   "source": [
    "print(f.read())"
   ]
  },
  {
   "cell_type": "markdown",
   "metadata": {},
   "source": [
    "У объекта `file` есть специальный атрибут `closed`, который позволяет проверить, закрыт файл или нет. Если файл открыт, он возвращает `False`:"
   ]
  },
  {
   "cell_type": "code",
   "execution_count": 39,
   "metadata": {},
   "outputs": [
    {
     "data": {
      "text/plain": [
       "False"
      ]
     },
     "execution_count": 39,
     "metadata": {},
     "output_type": "execute_result"
    }
   ],
   "source": [
    "f.closed"
   ]
  },
  {
   "cell_type": "markdown",
   "metadata": {},
   "source": [
    "Теперь закрываем файл и снова проверяем `closed`:"
   ]
  },
  {
   "cell_type": "code",
   "execution_count": 40,
   "metadata": {},
   "outputs": [],
   "source": [
    "f.close()"
   ]
  },
  {
   "cell_type": "code",
   "execution_count": 41,
   "metadata": {},
   "outputs": [
    {
     "data": {
      "text/plain": [
       "True"
      ]
     },
     "execution_count": 41,
     "metadata": {},
     "output_type": "execute_result"
    }
   ],
   "source": [
    "f.closed"
   ]
  },
  {
   "cell_type": "markdown",
   "metadata": {},
   "source": [
    "Если попробовать прочитать файл, возникнет исключение:"
   ]
  },
  {
   "cell_type": "code",
   "execution_count": 42,
   "metadata": {},
   "outputs": [
    {
     "ename": "ValueError",
     "evalue": "I/O operation on closed file.",
     "output_type": "error",
     "traceback": [
      "\u001b[1;31m---------------------------------------------------------------------------\u001b[0m",
      "\u001b[1;31mValueError\u001b[0m                                Traceback (most recent call last)",
      "\u001b[1;32m<ipython-input-42-315c20b774c2>\u001b[0m in \u001b[0;36m<module>\u001b[1;34m\u001b[0m\n\u001b[1;32m----> 1\u001b[1;33m \u001b[0mprint\u001b[0m\u001b[1;33m(\u001b[0m\u001b[0mf\u001b[0m\u001b[1;33m.\u001b[0m\u001b[0mread\u001b[0m\u001b[1;33m(\u001b[0m\u001b[1;33m)\u001b[0m\u001b[1;33m)\u001b[0m\u001b[1;33m\u001b[0m\u001b[1;33m\u001b[0m\u001b[0m\n\u001b[0m",
      "\u001b[1;31mValueError\u001b[0m: I/O operation on closed file."
     ]
    }
   ],
   "source": [
    "print(f.read())"
   ]
  },
  {
   "cell_type": "markdown",
   "metadata": {},
   "source": [
    "### 6.5 Конструкция with\n",
    "\n",
    "Конструкция `with` называется менеджер контекста.\n",
    "\n",
    "В Python существует более удобный способ работы с файлами, чем те, которые использовались до сих пор - конструкция `with`:"
   ]
  },
  {
   "cell_type": "code",
   "execution_count": 43,
   "metadata": {},
   "outputs": [
    {
     "name": "stdout",
     "output_type": "stream",
     "text": [
      "!\n",
      "\n",
      "service timestamps debug datetime msec localtime show-timezone year\n",
      "\n",
      "service timestamps log datetime msec localtime show-timezone year\n",
      "\n",
      "service password-encryption\n",
      "\n",
      "service sequence-numbers\n",
      "\n",
      "!\n",
      "\n",
      "no ip domain lookup\n",
      "\n",
      "!\n",
      "\n",
      "ip ssh version 2\n",
      "\n",
      "!\n"
     ]
    }
   ],
   "source": [
    "with open('../Base/init_data/r1.txt', 'r') as f:\n",
    "    for line in f:\n",
    "        print(line)\n",
    "        "
   ]
  },
  {
   "cell_type": "markdown",
   "metadata": {},
   "source": [
    "Кроме того, конструкция with гарантирует закрытие файла автоматически.\n",
    "\n",
    "Обратите внимание на то, как считываются строки файла:\n",
    "\n",
    "```python\n",
    "for line in f:\n",
    "    print(line)\n",
    "```\n",
    "        \n"
   ]
  },
  {
   "cell_type": "markdown",
   "metadata": {},
   "source": [
    "Когда с файлом нужно работать построчно, лучше использовать такой вариант.\n",
    "\n",
    "В предыдущем выводе, между строками файла были лишние пустые строки, так как print добавляет ещё один перевод строки.\n",
    "\n",
    "Чтобы избавиться от этого, можно использовать метод rstrip:"
   ]
  },
  {
   "cell_type": "code",
   "execution_count": 44,
   "metadata": {},
   "outputs": [
    {
     "name": "stdout",
     "output_type": "stream",
     "text": [
      "!\n",
      "service timestamps debug datetime msec localtime show-timezone year\n",
      "service timestamps log datetime msec localtime show-timezone year\n",
      "service password-encryption\n",
      "service sequence-numbers\n",
      "!\n",
      "no ip domain lookup\n",
      "!\n",
      "ip ssh version 2\n",
      "!\n"
     ]
    }
   ],
   "source": [
    "with open('../Base/init_data/r1.txt', 'r') as f:\n",
    "    for line in f:\n",
    "        print(line.rstrip())"
   ]
  },
  {
   "cell_type": "code",
   "execution_count": 45,
   "metadata": {},
   "outputs": [
    {
     "data": {
      "text/plain": [
       "True"
      ]
     },
     "execution_count": 45,
     "metadata": {},
     "output_type": "execute_result"
    }
   ],
   "source": [
    "f.closed"
   ]
  },
  {
   "cell_type": "markdown",
   "metadata": {},
   "source": [
    "И конечно же, с конструкцией with можно использовать не только такой построчный вариант считывания, все методы, которые рассматривались до этого, также работают:"
   ]
  },
  {
   "cell_type": "code",
   "execution_count": 46,
   "metadata": {},
   "outputs": [
    {
     "name": "stdout",
     "output_type": "stream",
     "text": [
      "!\n",
      "service timestamps debug datetime msec localtime show-timezone year\n",
      "service timestamps log datetime msec localtime show-timezone year\n",
      "service password-encryption\n",
      "service sequence-numbers\n",
      "!\n",
      "no ip domain lookup\n",
      "!\n",
      "ip ssh version 2\n",
      "!\n"
     ]
    }
   ],
   "source": [
    "In [4]: with open('../Base/init_data/r1.txt', 'r') as f:\n",
    "  ....:     print(f.read())"
   ]
  },
  {
   "cell_type": "markdown",
   "metadata": {},
   "source": [
    "#### Открытие двух файлов\n",
    "\n",
    "Иногда нужно работать одновременно с двумя файлами. Например, надо записать некоторые строки из одного файла, в другой.\n",
    "\n",
    "В таком случае, в блоке with можно открывать два файла таким образом:"
   ]
  },
  {
   "cell_type": "code",
   "execution_count": 47,
   "metadata": {},
   "outputs": [],
   "source": [
    "with open('../Base/init_data/r1.txt') as src, open('../Base/init_data/result.txt', 'w') as dest:\n",
    "    for line in src:\n",
    "        if line.startswith('service'):\n",
    "            dest.write(line)"
   ]
  },
  {
   "cell_type": "code",
   "execution_count": 48,
   "metadata": {},
   "outputs": [],
   "source": [
    "with open('../Base/init_data/r1.txt') as src:\n",
    "    with open('../Base/init_data/result.txt', 'w') as dest:\n",
    "        for line in src:\n",
    "            if line.startswith('service'):\n",
    "                dest.write(line)"
   ]
  },
  {
   "cell_type": "markdown",
   "metadata": {},
   "source": [
    "**Полезные ссылки:**\n",
    "\n",
    "1. https://docs.python.org/3/library/stdtypes.html#bltin-file-objects"
   ]
  }
 ],
 "metadata": {
  "kernelspec": {
   "display_name": "Python 3",
   "language": "python",
   "name": "python3"
  },
  "language_info": {
   "codemirror_mode": {
    "name": "ipython",
    "version": 3
   },
   "file_extension": ".py",
   "mimetype": "text/x-python",
   "name": "python",
   "nbconvert_exporter": "python",
   "pygments_lexer": "ipython3",
   "version": "3.8.3"
  }
 },
 "nbformat": 4,
 "nbformat_minor": 4
}
