{
 "cells": [
  {
   "cell_type": "markdown",
   "metadata": {},
   "source": [
    "<img src=\"../Base/images/liga logo.png\" width=\"500\"/>"
   ]
  },
  {
   "cell_type": "markdown",
   "metadata": {},
   "source": [
    "<img src=\"../Base/images/python logo.png\" width=\"165\"/>"
   ]
  },
  {
   "cell_type": "markdown",
   "metadata": {},
   "source": [
    "# Курс \"Основы программирования на Python\""
   ]
  },
  {
   "cell_type": "markdown",
   "metadata": {},
   "source": [
    "## 1. Особенности языка Python\n",
    "\n",
    "**Python** — высокоуровневый язык программирования с динамической типизацией и автоматическим управлением памятью, ориентированный на повышение производительности разработчика, читаемости кода и его качества, а также на обеспечение переносимости написанных на нём программ. Язык является интерпретируемым; полностью объектно-ориентированным (всё является объектами).\n",
    "\n",
    "### Языки программирования бывают:\n",
    "\n",
    "#### 1) Низкоуровневые или Высокоуровненые:\n",
    "\n",
    "<img src=\"../Base/images/high&low.jpg\" width=\"600\"/>\n",
    "\n",
    "* **Высокоуровневый язык программирования** — язык программирования, разработанный для быстроты и удобства использования программистом. Основная черта высокоуровневых языков — это абстракция, то есть введение смысловых конструкций, кратко описывающих такие структуры данных и операции над ними, описания которых на низкоуровневом языке программирования очень длинны и сложны для понимания.\n",
    "    \n",
    "* **Низкоуровневый язык программирования** — язык программирования, близкий к программированию непосредственно в машинных кодах используемого реального или виртуального процессора. Для обозначения машинных команд обычно применяется мнемоническое обозначение. Это позволяет запоминать команды не в виде последовательности двоичных нулей и единиц, а в виде осмысленных сокращений слов человеческого языка (обычно английских).\n",
    "    \n",
    "    \n",
    "#### 2) Компилируемые или Интерпретируемые:\n",
    "\n",
    "Главное преимущество **компилируемых языков** — это скорость исполнения. Поскольку они конвертируются в машинный код, они работают гораздо быстрее и эффективнее, нежели интерпретируемые, особенно если учесть сложность утверждений некоторых современных скриптовых интерпретируемых языков. \n",
    "\n",
    "Низкоуровневые языки как правило являются компилируемыми, поскольку эффективность обычно ставится выше кроссплатформенности. Кроме того, компилируемые языки дают разработчику гораздо больше возможностей в плане контроля аппаратного обеспечения, например, управления памятью и использованием процессора. Примерами компилируемых языков являются C, C++, Erlang, Haskell и более современные языки, такие как Rust и Go.\n",
    "\n",
    "Проблемы компилируемых языков, в общем-то, очевидны. Для запуска программы, написаной на компилируемом языке, её сперва нужно скомпилировать. Это не только лишний шаг, но и значительное усложнение отладки, ведь для тестирования любого изменения программу нужно компилировать заново. Кроме того, компилируемые языки являются платформо-зависимыми, поскольку машинный код зависит от машины, на которой компилируется и исполняется программа.\n",
    "    \n",
    "В отличие от компилируемых языков, **интерпретируемым** для исполнения программы не нужен машинный код; вместо этого программу построчно исполнят интерпретаторы. Раньше процесс интерпретации занимал очень много времени, но с приходом таких технологий, как JIT-компиляция, разрыв между компилируемыми и интерпретируемыми языками сокращается. Примерами интерпретируемых языков являются PHP, Perl, Ruby и Python. Вот некоторые из концептов, которые стали проще благодаря интерпретируемым языкам:\n",
    "\n",
    "- Независимость от платформы (любая, поддерживаемая интерпретатором)\n",
    "- Рефлексия (возможность изменять атрибуты объектов во время исполнения кода)\n",
    "- Динамическая типизация\n",
    "- Динамические области видимости\n",
    "\n",
    "На практике Python-код исполняется сразу после построчной интерпретации. Эталонной реализацией иптерпретатора для Python является CPython <https://github.com/python/cpython>.\n",
    "\n",
    "Python в CPU-bound задачах сильно уступает в скорости многим популярным языкам, например, C++. Но к Python-скрипту вы можете подключать модули, написанные на C++.\n",
    "    \n",
    "#### 3) C динамической или Статической типизацией:\n",
    "* **Динамическая типизация** — приём, используемый в языках программирования, при котором переменная связывается с типом в момент присваивания значения, а не в момент объявления переменной. Таким образом, в различных участках программы одна и та же переменная может принимать значения разных типов.\n",
    "\n",
    "* **Статическая типизация** — приём, широко используемый в языках программирования, при котором переменная связывается с типом в момент объявления и тип не может быть изменён позже.\n",
    "\n",
    "\n",
    "Для изучения тонкостей работы Python, рекомендуем читать официальную документацию: <https://docs.python.org/3/>"
   ]
  },
  {
   "cell_type": "markdown",
   "metadata": {},
   "source": [
    "В этом примере Python сначала создаёт первую переменную a типа int, потом — вторую с тем же именем, имеющую тип str, и освобождает память, которая была выделена первой переменной a."
   ]
  },
  {
   "cell_type": "code",
   "execution_count": 1,
   "metadata": {},
   "outputs": [
    {
     "name": "stdout",
     "output_type": "stream",
     "text": [
      "1\n",
      "строка\n"
     ]
    }
   ],
   "source": [
    "a = 1\n",
    "print(a)\n",
    "a = 'строка'\n",
    "print(a)"
   ]
  },
  {
   "cell_type": "markdown",
   "metadata": {},
   "source": [
    "В Python все сущности унаследованы от базового класса `object`. Проверить принадлежность к классу (или подклассу) можно с помощью встроенной функции `isinstance`:"
   ]
  },
  {
   "cell_type": "code",
   "execution_count": 2,
   "metadata": {},
   "outputs": [
    {
     "data": {
      "text/plain": [
       "True"
      ]
     },
     "execution_count": 2,
     "metadata": {},
     "output_type": "execute_result"
    }
   ],
   "source": [
    "isinstance(a, object)"
   ]
  },
  {
   "cell_type": "markdown",
   "metadata": {},
   "source": [
    "С помощью `isinstance` проверим, что тип переменной `a` действительно изменился:"
   ]
  },
  {
   "cell_type": "code",
   "execution_count": 3,
   "metadata": {},
   "outputs": [
    {
     "name": "stdout",
     "output_type": "stream",
     "text": [
      "1 True\n",
      "строка False\n"
     ]
    }
   ],
   "source": [
    "a = 1\n",
    "print(a, isinstance(a, int))\n",
    "a = 'строка'\n",
    "print(a, isinstance(a, int))"
   ]
  },
  {
   "cell_type": "markdown",
   "metadata": {},
   "source": [
    "---------------------------"
   ]
  },
  {
   "cell_type": "markdown",
   "metadata": {},
   "source": [
    "## 2. Начало работы с Python\n",
    "### 2.1 print: функция вывода\n",
    "Функция `print` принимает на вход переменные и выводит их строковое представление в **stdout**.  \n",
    "Поскольку каждый объект в питоне унаследован от базового класса `object`, он имеет метод `__str__`, который возвращает строковое представление объекта:"
   ]
  },
  {
   "cell_type": "code",
   "execution_count": 4,
   "metadata": {},
   "outputs": [
    {
     "name": "stdout",
     "output_type": "stream",
     "text": [
      "33\n",
      "33\n",
      "33\n"
     ]
    }
   ],
   "source": [
    "a = 33\n",
    "print(a)\n",
    "print(a.__str__())\n",
    "print(str(a))"
   ]
  },
  {
   "cell_type": "markdown",
   "metadata": {},
   "source": [
    "Как вы уже догадались, в конце вывода `print` переводит курсор на новую строку.  \n",
    "Все три записи выше абсолютно идентичны.  \n",
    "В последней строке используется функция `str`: она принимает на вход аргумент и возвращает его строковое представление.\n",
    "\n",
    "Функция `print()` выводит все элементы, разделяя их значением `sep`, и завершает вывод значением `end`.\n",
    "\n",
    "```python\n",
    "print(*items, sep=' ', end='\\n')\n",
    "```"
   ]
  },
  {
   "cell_type": "code",
   "execution_count": 19,
   "metadata": {},
   "outputs": [
    {
     "name": "stdout",
     "output_type": "stream",
     "text": [
      "Энергия**Доверие**Экспертиза!"
     ]
    }
   ],
   "source": [
    "print('Энергия', 'Доверие', 'Экспертиза', sep='**', end='!')"
   ]
  },
  {
   "cell_type": "markdown",
   "metadata": {},
   "source": [
    "* **`sep`**\n",
    "\n",
    "Параметр `sep` контролирует то, какой разделитель будет использоваться между элементами.\n",
    "\n",
    "По умолчанию используется пробел:"
   ]
  },
  {
   "cell_type": "code",
   "execution_count": 20,
   "metadata": {},
   "outputs": [
    {
     "name": "stdout",
     "output_type": "stream",
     "text": [
      "1 2 3\n"
     ]
    }
   ],
   "source": [
    "print(1, 2, 3)"
   ]
  },
  {
   "cell_type": "markdown",
   "metadata": {},
   "source": [
    "Можно изменить значение `sep` на любую другую строку:"
   ]
  },
  {
   "cell_type": "code",
   "execution_count": 21,
   "metadata": {},
   "outputs": [
    {
     "name": "stdout",
     "output_type": "stream",
     "text": [
      "1|2|3\n"
     ]
    }
   ],
   "source": [
    "print(1, 2, 3, sep='|')"
   ]
  },
  {
   "cell_type": "code",
   "execution_count": 22,
   "metadata": {},
   "outputs": [
    {
     "name": "stdout",
     "output_type": "stream",
     "text": [
      "1\n",
      "2\n",
      "3\n"
     ]
    }
   ],
   "source": [
    "print(1, 2, 3, sep='\\n')"
   ]
  },
  {
   "cell_type": "code",
   "execution_count": 23,
   "metadata": {},
   "outputs": [
    {
     "name": "stdout",
     "output_type": "stream",
     "text": [
      "1\n",
      "----------\n",
      "2\n",
      "----------\n",
      "3\n"
     ]
    }
   ],
   "source": [
    "print(1, 2, 3, sep=f\"\\n{'-' * 10}\\n\")"
   ]
  },
  {
   "cell_type": "markdown",
   "metadata": {},
   "source": [
    "* **`end`**\n",
    "\n",
    "Параметр `end` контролирует то, какое значение выведется после вывода всех элементов. По умолчанию используется перевод строки:"
   ]
  },
  {
   "cell_type": "markdown",
   "metadata": {},
   "source": [
    "Можно изменить значение `end` на любую другую строку:"
   ]
  },
  {
   "cell_type": "code",
   "execution_count": 26,
   "metadata": {},
   "outputs": [
    {
     "name": "stdout",
     "output_type": "stream",
     "text": [
      "1 2 3\n",
      "----------"
     ]
    }
   ],
   "source": [
    "print(1, 2, 3, end='\\n'+'-'*10)"
   ]
  },
  {
   "cell_type": "markdown",
   "metadata": {},
   "source": [
    "### 2.2 Функция вывода\n",
    "​\n",
    "Иногда необходимо получить информацию от пользователя, для этого используется функция `input`."
   ]
  },
  {
   "cell_type": "code",
   "execution_count": 27,
   "metadata": {},
   "outputs": [
    {
     "name": "stdout",
     "output_type": "stream",
     "text": [
      "Твой любимый диалект SQL? hql\n",
      "hql\n"
     ]
    }
   ],
   "source": [
    "print(input('Твой любимый диалект SQL? '))"
   ]
  },
  {
   "cell_type": "markdown",
   "metadata": {},
   "source": [
    "В данном случае информация тут же выводится пользователю, но кроме этого, информация, которую ввел пользователь, может быть сохранена в какую-то переменную и может использоваться далее в скрипте."
   ]
  },
  {
   "cell_type": "code",
   "execution_count": 28,
   "metadata": {},
   "outputs": [
    {
     "name": "stdout",
     "output_type": "stream",
     "text": [
      "Твой любимый диалект SQL? hql\n"
     ]
    }
   ],
   "source": [
    "protocol = input('Твой любимый диалект SQL? ')"
   ]
  },
  {
   "cell_type": "code",
   "execution_count": 29,
   "metadata": {},
   "outputs": [
    {
     "name": "stdout",
     "output_type": "stream",
     "text": [
      "hql\n"
     ]
    }
   ],
   "source": [
    "print(protocol)"
   ]
  },
  {
   "cell_type": "code",
   "execution_count": 30,
   "metadata": {},
   "outputs": [
    {
     "name": "stdout",
     "output_type": "stream",
     "text": [
      "a = 1\n",
      "b = 3\n",
      "a + b = 4\n"
     ]
    }
   ],
   "source": [
    "a = int(input('a = '))\n",
    "b = int(input('b = '))\n",
    "\n",
    "print('a + b =', a + b)"
   ]
  },
  {
   "cell_type": "markdown",
   "metadata": {},
   "source": [
    "### 2.2 Функции\n",
    "Функция - это абстракция, которая принимает объект на вход и возвращает объект-результат:"
   ]
  },
  {
   "cell_type": "code",
   "execution_count": 5,
   "metadata": {},
   "outputs": [],
   "source": [
    "def increment(a):\n",
    "    return a+1"
   ]
  },
  {
   "cell_type": "code",
   "execution_count": 6,
   "metadata": {},
   "outputs": [
    {
     "data": {
      "text/plain": [
       "2"
      ]
     },
     "execution_count": 6,
     "metadata": {},
     "output_type": "execute_result"
    }
   ],
   "source": [
    "increment(1)"
   ]
  },
  {
   "cell_type": "markdown",
   "metadata": {},
   "source": [
    "Напишем аналог функции `str`:"
   ]
  },
  {
   "cell_type": "code",
   "execution_count": 7,
   "metadata": {},
   "outputs": [],
   "source": [
    "def my_str(value):\n",
    "    return value.__str__()"
   ]
  },
  {
   "cell_type": "code",
   "execution_count": 8,
   "metadata": {},
   "outputs": [
    {
     "data": {
      "text/plain": [
       "'54'"
      ]
     },
     "execution_count": 8,
     "metadata": {},
     "output_type": "execute_result"
    }
   ],
   "source": [
    "my_str(54)"
   ]
  },
  {
   "cell_type": "markdown",
   "metadata": {},
   "source": [
    "Функции также являются объектами (<https://docs.python.org/3/c-api/function.html>):"
   ]
  },
  {
   "cell_type": "code",
   "execution_count": 9,
   "metadata": {},
   "outputs": [
    {
     "data": {
      "text/plain": [
       "True"
      ]
     },
     "execution_count": 9,
     "metadata": {},
     "output_type": "execute_result"
    }
   ],
   "source": [
    "isinstance(increment, object)"
   ]
  },
  {
   "cell_type": "code",
   "execution_count": 10,
   "metadata": {},
   "outputs": [
    {
     "name": "stdout",
     "output_type": "stream",
     "text": [
      "<function increment at 0x00000242EC0225E0>\n"
     ]
    }
   ],
   "source": [
    "print(increment)"
   ]
  },
  {
   "cell_type": "markdown",
   "metadata": {},
   "source": [
    "Метод `__str__` функции `increment` по умолчанию возвращает ее имя и адрес в оперативной памяти.\n",
    "```\n",
    "\n",
    "\n",
    "\n",
    "```\n",
    "### 2.3 Синтаксис Python\n",
    "\n",
    "Первое, что, как правило, бросается в глаза, если говорить о синтаксисе в Python, это то, что отступы имеют значение:\n",
    "\n",
    "- они определяют, какой код попадает в блок;\n",
    "- когда блок кода начинается и заканчивается.\n",
    " \n",
    "Пример кода Python:"
   ]
  },
  {
   "cell_type": "code",
   "execution_count": 11,
   "metadata": {},
   "outputs": [
    {
     "name": "stdout",
     "output_type": "stream",
     "text": [
      "A больше B\n",
      "5\n",
      "Конец\n"
     ]
    }
   ],
   "source": [
    "a = 10\n",
    "b = 5\n",
    "\n",
    "# Условный оператор\n",
    "if a > b:\n",
    "    print(\"A больше B\")\n",
    "    print(a - b)\n",
    "else:\n",
    "    print(\"B больше или равно A\")\n",
    "    print(b - a)\n",
    "\n",
    "print(\"Конец\")\n",
    "\n",
    "# Функция\n",
    "def incrementation(a):\n",
    "    a += 1\n",
    "    return a"
   ]
  },
  {
   "cell_type": "markdown",
   "metadata": {},
   "source": [
    "Python понимает, какие строки относятся к `if` на основе отступов. Выполнение блока `if a > b` заканчивается, когда встречается строка с тем же отступом, что и сама строка `if a > b`. Аналогично с блоком `else`.\n",
    "\n",
    "Вторая особенность Python: после некоторых выражений должно идти двоеточие (например, после `if a > b` и после `else`).\n",
    "\n",
    "Аналогичная ситуация с функциями.\n",
    "\n",
    "Несколько правил и рекомендаций по отступам:\n",
    "\n",
    "- В качестве отступов могут использоваться табы или пробелы.\n",
    "- Количество пробелов должно быть одинаковым в одном блоке (лучше, чтобы количество пробелов было одинаковым во всём коде – популярный вариант, это использовать 2-4 пробела, так, например, в этой книге используются 4 пробела).\n",
    "\n",
    "Ещё одна особенность приведённого кода, это пустые строки. С их помощью код форматируется, чтобы его было проще читать. Остальные особенности синтаксиса будут показаны в процессе знакомства со структурами данных в Python.\n",
    "\n",
    "```\n",
    "\n",
    "```\n",
    "***Примечание:***\n",
    "    \n",
    "В Python есть специальный документ, в котором описано как лучше писать код Python PEP 8 - the Style Guide for Python Code (https://pep8.org/)\n",
    "\n",
    "```\n",
    "\n",
    "\n",
    "\n",
    "```\n",
    "\n",
    "### 2.4 Комментарии\n",
    "При написании кода часто нужно оставить комментарий, например, чтобы описать особенности работы кода.\n",
    "\n",
    "Комментарии в Python могут быть однострочными:"
   ]
  },
  {
   "cell_type": "code",
   "execution_count": 12,
   "metadata": {},
   "outputs": [],
   "source": [
    "# Очень важный комментарий\n",
    "a = 10\n",
    "b = 5 # Очень нужный комментарий"
   ]
  },
  {
   "cell_type": "markdown",
   "metadata": {},
   "source": [
    "Однострочные комментарии начинаются со знака решётки. Обратите внимание, что комментарий может быть как в строке, где находится сам код, так и в отдельной строке.\n",
    "\n",
    "При необходимости написать несколько строк с комментариями, чтобы не ставить перед каждой решётку, можно сделать многострочный комментарий:"
   ]
  },
  {
   "cell_type": "code",
   "execution_count": 13,
   "metadata": {},
   "outputs": [],
   "source": [
    "\"\"\"\n",
    "Очень важный\n",
    "и длинный комментарий\n",
    "\"\"\"\n",
    "\n",
    "\n",
    "'''\n",
    "Еще один очень важный\n",
    "и длинный комментарий\n",
    "'''\n",
    "\n",
    "\n",
    "a = 10\n",
    "b = 5"
   ]
  },
  {
   "cell_type": "markdown",
   "metadata": {},
   "source": [
    "Для многострочного комментария можно использовать три двойные или три одинарные кавычки. Комментарии используются для:\n",
    "\n",
    "- описания логики кода непосредственно в самом коде\n",
    "- документации кода\n",
    "- исключения выполнения строки или блока кода"
   ]
  },
  {
   "cell_type": "markdown",
   "metadata": {},
   "source": [
    "-----------------------------------------"
   ]
  },
  {
   "cell_type": "markdown",
   "metadata": {},
   "source": [
    "## 3. IDE\n",
    "\n",
    "Интегрированная среда разработки (Integrated Development Environment) - это программа, упрощающая написание кода, его отладку и запуск.\n",
    "\n",
    "Одна из самых популярных IDE для разработки на Python является PyCharm. PyCharm Community можно использовать бесплатно, из важного функционала там отсутствует подключение к удаленному интерпретатору Python или удаленному jupyter server.\n",
    "\n",
    "Мы в этом курсе будем использовать для работы IDE Jupyter. Она интерактивная и многие утверждают, что проще для прототипирования, т.е. написания кода, который в будущем не будет переиспользоваться.\n",
    "\n",
    "### 3.1 Jupyter vs PyCharm\n",
    "Ниже все сравнения будут в пользу PyCharm, не стоит удивляться, что этот курс предлагает Jupyter: он нагляднее и прекрасно подходит под цели курса. PyCharm позволяет работать с большими проектами, поэтому часто развитие программиста/аналитика в какой-то момент требует наличия более мощного инструмента.\n",
    "\n",
    "#### 3.1.1 Переиспользование кода\n",
    "В полноценной IDE, такой как PyCharm, вы пишете код в файлы с расширением **.py**. Код из этих файлов (если он завернут в функции или классы) можно импортировать в других местах и переиспользовать.\n",
    "\n",
    "Код, написанный в ноутбуке Jupyter, не может быть переиспользован в других файлах.\n",
    "\n",
    "#### 3.1.2 Работа с большим проектом, рефакторинг\n",
    "PyCharm работает с \"проектом\", т.е. со рабочей директорией, в которой лежат различные файлы **.py**. Он отслеживает зависимости между файлами (переиспользование кода) и позволяет легко рефакторить код. Например, переименовать переменную одновременно во всех местах, где она используется или мгновенно открыть исходный код функции.\n",
    "\n",
    "#### 3.1.3 Дебаггинг\n",
    "PyCharm предоставляет возможности для дебаггинга: вы можете остановить исполнение кода в любой точке, увидеть значения всех переменных из области видимости, изменять и исследовать эти переменные в консоли, пока основная программа ожидает продолжения.\n",
    "```\n",
    "\n",
    "\n",
    "```\n",
    "У PyCharm много и других плюсов.\n",
    "\n",
    "```\n",
    "\n",
    "\n",
    "\n",
    "```\n",
    "### 3.4 Особенности Jupyter\n",
    "\n",
    "#### 3.4.1 Интерактивность\n",
    "Запуск кода Python в Jupyter обычно происходит в интерактивном ноутбуке **.ipynb**. Это основная причина его популярности. Запуск производится в ячейках, под ячейкой отображается **stdout** (вывод строк).\n",
    "\n",
    "#### 3.4.2 Команда **`%history`**\n",
    "Память и область видимости общая для всех ячеек ноутбука. Т.е. переменная, определенная в одной ячейке, может быть использована в другой.\n",
    "\n",
    "При этом запускать ячейки вы можете в любом порядке. Из-за этого часто можно забыть, какие действия уже совершены. В таком случае можно вызвать команду `%history`: она позволяет просмотреть историю введённых пользователем команд в текущей сессии Jupyter:"
   ]
  },
  {
   "cell_type": "code",
   "execution_count": 14,
   "metadata": {},
   "outputs": [
    {
     "name": "stdout",
     "output_type": "stream",
     "text": [
      "\n",
      "a = 1\n",
      "print(a)\n",
      "a = 'строка'\n",
      "print(a)\n",
      "\n",
      "isinstance(a, object)\n",
      "\n",
      "a = 1\n",
      "print(a, isinstance(a, int))\n",
      "a = 'строка'\n",
      "print(a, isinstance(a, int))\n",
      "\n",
      "a = 33\n",
      "print(a)\n",
      "print(a.__str__())\n",
      "print(str(a))\n",
      "\n",
      "def increment(a):\n",
      "    return a+1\n",
      "\n",
      "increment(1)\n",
      "\n",
      "def my_str(value):\n",
      "    return value.__str__()\n",
      "\n",
      "my_str(54)\n",
      "\n",
      "isinstance(increment, object)\n",
      "\n",
      "print(increment)\n",
      "\n",
      "a = 10\n",
      "b = 5\n",
      "\n",
      "# Условный оператор\n",
      "if a > b:\n",
      "    print(\"A больше B\")\n",
      "    print(a - b)\n",
      "else:\n",
      "    print(\"B больше или равно A\")\n",
      "    print(b - a)\n",
      "\n",
      "print(\"Конец\")\n",
      "\n",
      "# Функция\n",
      "def incrementation(a):\n",
      "    a += 1\n",
      "    return a\n",
      "\n",
      "# Очень важный комментарий\n",
      "a = 10\n",
      "b = 5 # Очень нужный комментарий\n",
      "\n",
      "\"\"\"\n",
      "Очень важный\n",
      "и длинный комментарий\n",
      "\"\"\"\n",
      "\n",
      "\n",
      "'''\n",
      "Еще один очень важный\n",
      "и длинный комментарий\n",
      "'''\n",
      "\n",
      "\n",
      "a = 10\n",
      "b = 5\n",
      "\n",
      "%history\n"
     ]
    }
   ],
   "source": [
    "%history"
   ]
  },
  {
   "cell_type": "markdown",
   "metadata": {},
   "source": [
    "#### 3.4.3 Перезапуск исполнения кода\n",
    "Если вы совсем запутались в порядке запуска ячеек, всегда можно рестартнуть ноутбук и начать с чистого листа. Только в этом случае нужно будет исполнить весь код заново.\n",
    "\n",
    "Если исполнение ячейки необходимо остновить, для этого есть кнопка с черным квадратом.\n",
    "\n",
    "#### 3.4.4 Добавление и удаление ячеек\n",
    "Для добавления есть кнопка плюс, для удаления кнопка ножниц.  \n",
    "Если вы не хотели удалять ячейку, восстановите ее хоткеем **Esc+Z**.  \n",
    "\n",
    "<img src=\"../Base/images/jupyter_buttons.png\" width=\"600\"/>\n",
    "\n",
    "#### 3.4.5 Некоторые полезные хоткеи\n",
    "- **Shift+Enter**: запуск текущй ячейки \n",
    "- **Esc**: переход в режим команд (из режима написания кода в ячейке)\n",
    "- **Enter**: переход в режим написания кода в ячейке\n",
    "- **Tab**: (в режиме ячейки) авто заполнение кода (можно начать набирать имя переменной, после нажатия хоткея оно автоматически заполнится)\n",
    "- **Shift+Tab**: (в режиме ячейки) подсказка, вывод документации для текущего объекта (рядом с которым находится курсор)"
   ]
  },
  {
   "cell_type": "markdown",
   "metadata": {},
   "source": [
    "#### 3.4.5 Вызов справки для объекта\n",
    "\n",
    "\n",
    "* **`help()`** или **`?`**\n",
    "\n",
    "В Jupyter есть возможность посмотреть справку по произвольному объекту, функции или методу с помощью `help()`:"
   ]
  },
  {
   "cell_type": "code",
   "execution_count": 15,
   "metadata": {},
   "outputs": [
    {
     "name": "stdout",
     "output_type": "stream",
     "text": [
      "Help on class str in module builtins:\n",
      "\n",
      "class str(object)\n",
      " |  str(object='') -> str\n",
      " |  str(bytes_or_buffer[, encoding[, errors]]) -> str\n",
      " |  \n",
      " |  Create a new string object from the given object. If encoding or\n",
      " |  errors is specified, then the object must expose a data buffer\n",
      " |  that will be decoded using the given encoding and error handler.\n",
      " |  Otherwise, returns the result of object.__str__() (if defined)\n",
      " |  or repr(object).\n",
      " |  encoding defaults to sys.getdefaultencoding().\n",
      " |  errors defaults to 'strict'.\n",
      " |  \n",
      " |  Methods defined here:\n",
      " |  \n",
      " |  __add__(self, value, /)\n",
      " |      Return self+value.\n",
      " |  \n",
      " |  __contains__(self, key, /)\n",
      " |      Return key in self.\n",
      " |  \n",
      " |  __eq__(self, value, /)\n",
      " |      Return self==value.\n",
      " |  \n",
      " |  __format__(self, format_spec, /)\n",
      " |      Return a formatted version of the string as described by format_spec.\n",
      " |  \n",
      " |  __ge__(self, value, /)\n",
      " |      Return self>=value.\n",
      " |  \n",
      " |  __getattribute__(self, name, /)\n",
      " |      Return getattr(self, name).\n",
      " |  \n",
      " |  __getitem__(self, key, /)\n",
      " |      Return self[key].\n",
      " |  \n",
      " |  __getnewargs__(...)\n",
      " |  \n",
      " |  __gt__(self, value, /)\n",
      " |      Return self>value.\n",
      " |  \n",
      " |  __hash__(self, /)\n",
      " |      Return hash(self).\n",
      " |  \n",
      " |  __iter__(self, /)\n",
      " |      Implement iter(self).\n",
      " |  \n",
      " |  __le__(self, value, /)\n",
      " |      Return self<=value.\n",
      " |  \n",
      " |  __len__(self, /)\n",
      " |      Return len(self).\n",
      " |  \n",
      " |  __lt__(self, value, /)\n",
      " |      Return self<value.\n",
      " |  \n",
      " |  __mod__(self, value, /)\n",
      " |      Return self%value.\n",
      " |  \n",
      " |  __mul__(self, value, /)\n",
      " |      Return self*value.\n",
      " |  \n",
      " |  __ne__(self, value, /)\n",
      " |      Return self!=value.\n",
      " |  \n",
      " |  __repr__(self, /)\n",
      " |      Return repr(self).\n",
      " |  \n",
      " |  __rmod__(self, value, /)\n",
      " |      Return value%self.\n",
      " |  \n",
      " |  __rmul__(self, value, /)\n",
      " |      Return value*self.\n",
      " |  \n",
      " |  __sizeof__(self, /)\n",
      " |      Return the size of the string in memory, in bytes.\n",
      " |  \n",
      " |  __str__(self, /)\n",
      " |      Return str(self).\n",
      " |  \n",
      " |  capitalize(self, /)\n",
      " |      Return a capitalized version of the string.\n",
      " |      \n",
      " |      More specifically, make the first character have upper case and the rest lower\n",
      " |      case.\n",
      " |  \n",
      " |  casefold(self, /)\n",
      " |      Return a version of the string suitable for caseless comparisons.\n",
      " |  \n",
      " |  center(self, width, fillchar=' ', /)\n",
      " |      Return a centered string of length width.\n",
      " |      \n",
      " |      Padding is done using the specified fill character (default is a space).\n",
      " |  \n",
      " |  count(...)\n",
      " |      S.count(sub[, start[, end]]) -> int\n",
      " |      \n",
      " |      Return the number of non-overlapping occurrences of substring sub in\n",
      " |      string S[start:end].  Optional arguments start and end are\n",
      " |      interpreted as in slice notation.\n",
      " |  \n",
      " |  encode(self, /, encoding='utf-8', errors='strict')\n",
      " |      Encode the string using the codec registered for encoding.\n",
      " |      \n",
      " |      encoding\n",
      " |        The encoding in which to encode the string.\n",
      " |      errors\n",
      " |        The error handling scheme to use for encoding errors.\n",
      " |        The default is 'strict' meaning that encoding errors raise a\n",
      " |        UnicodeEncodeError.  Other possible values are 'ignore', 'replace' and\n",
      " |        'xmlcharrefreplace' as well as any other name registered with\n",
      " |        codecs.register_error that can handle UnicodeEncodeErrors.\n",
      " |  \n",
      " |  endswith(...)\n",
      " |      S.endswith(suffix[, start[, end]]) -> bool\n",
      " |      \n",
      " |      Return True if S ends with the specified suffix, False otherwise.\n",
      " |      With optional start, test S beginning at that position.\n",
      " |      With optional end, stop comparing S at that position.\n",
      " |      suffix can also be a tuple of strings to try.\n",
      " |  \n",
      " |  expandtabs(self, /, tabsize=8)\n",
      " |      Return a copy where all tab characters are expanded using spaces.\n",
      " |      \n",
      " |      If tabsize is not given, a tab size of 8 characters is assumed.\n",
      " |  \n",
      " |  find(...)\n",
      " |      S.find(sub[, start[, end]]) -> int\n",
      " |      \n",
      " |      Return the lowest index in S where substring sub is found,\n",
      " |      such that sub is contained within S[start:end].  Optional\n",
      " |      arguments start and end are interpreted as in slice notation.\n",
      " |      \n",
      " |      Return -1 on failure.\n",
      " |  \n",
      " |  format(...)\n",
      " |      S.format(*args, **kwargs) -> str\n",
      " |      \n",
      " |      Return a formatted version of S, using substitutions from args and kwargs.\n",
      " |      The substitutions are identified by braces ('{' and '}').\n",
      " |  \n",
      " |  format_map(...)\n",
      " |      S.format_map(mapping) -> str\n",
      " |      \n",
      " |      Return a formatted version of S, using substitutions from mapping.\n",
      " |      The substitutions are identified by braces ('{' and '}').\n",
      " |  \n",
      " |  index(...)\n",
      " |      S.index(sub[, start[, end]]) -> int\n",
      " |      \n",
      " |      Return the lowest index in S where substring sub is found,\n",
      " |      such that sub is contained within S[start:end].  Optional\n",
      " |      arguments start and end are interpreted as in slice notation.\n",
      " |      \n",
      " |      Raises ValueError when the substring is not found.\n",
      " |  \n",
      " |  isalnum(self, /)\n",
      " |      Return True if the string is an alpha-numeric string, False otherwise.\n",
      " |      \n",
      " |      A string is alpha-numeric if all characters in the string are alpha-numeric and\n",
      " |      there is at least one character in the string.\n",
      " |  \n",
      " |  isalpha(self, /)\n",
      " |      Return True if the string is an alphabetic string, False otherwise.\n",
      " |      \n",
      " |      A string is alphabetic if all characters in the string are alphabetic and there\n",
      " |      is at least one character in the string.\n",
      " |  \n",
      " |  isascii(self, /)\n",
      " |      Return True if all characters in the string are ASCII, False otherwise.\n",
      " |      \n",
      " |      ASCII characters have code points in the range U+0000-U+007F.\n",
      " |      Empty string is ASCII too.\n",
      " |  \n",
      " |  isdecimal(self, /)\n",
      " |      Return True if the string is a decimal string, False otherwise.\n",
      " |      \n",
      " |      A string is a decimal string if all characters in the string are decimal and\n",
      " |      there is at least one character in the string.\n",
      " |  \n",
      " |  isdigit(self, /)\n",
      " |      Return True if the string is a digit string, False otherwise.\n",
      " |      \n",
      " |      A string is a digit string if all characters in the string are digits and there\n",
      " |      is at least one character in the string.\n",
      " |  \n",
      " |  isidentifier(self, /)\n",
      " |      Return True if the string is a valid Python identifier, False otherwise.\n",
      " |      \n",
      " |      Call keyword.iskeyword(s) to test whether string s is a reserved identifier,\n",
      " |      such as \"def\" or \"class\".\n",
      " |  \n",
      " |  islower(self, /)\n",
      " |      Return True if the string is a lowercase string, False otherwise.\n",
      " |      \n",
      " |      A string is lowercase if all cased characters in the string are lowercase and\n",
      " |      there is at least one cased character in the string.\n",
      " |  \n",
      " |  isnumeric(self, /)\n",
      " |      Return True if the string is a numeric string, False otherwise.\n",
      " |      \n",
      " |      A string is numeric if all characters in the string are numeric and there is at\n",
      " |      least one character in the string.\n",
      " |  \n",
      " |  isprintable(self, /)\n",
      " |      Return True if the string is printable, False otherwise.\n",
      " |      \n",
      " |      A string is printable if all of its characters are considered printable in\n",
      " |      repr() or if it is empty.\n",
      " |  \n",
      " |  isspace(self, /)\n",
      " |      Return True if the string is a whitespace string, False otherwise.\n",
      " |      \n",
      " |      A string is whitespace if all characters in the string are whitespace and there\n",
      " |      is at least one character in the string.\n",
      " |  \n",
      " |  istitle(self, /)\n",
      " |      Return True if the string is a title-cased string, False otherwise.\n",
      " |      \n",
      " |      In a title-cased string, upper- and title-case characters may only\n",
      " |      follow uncased characters and lowercase characters only cased ones.\n",
      " |  \n",
      " |  isupper(self, /)\n",
      " |      Return True if the string is an uppercase string, False otherwise.\n",
      " |      \n",
      " |      A string is uppercase if all cased characters in the string are uppercase and\n",
      " |      there is at least one cased character in the string.\n",
      " |  \n",
      " |  join(self, iterable, /)\n",
      " |      Concatenate any number of strings.\n",
      " |      \n",
      " |      The string whose method is called is inserted in between each given string.\n",
      " |      The result is returned as a new string.\n",
      " |      \n",
      " |      Example: '.'.join(['ab', 'pq', 'rs']) -> 'ab.pq.rs'\n",
      " |  \n",
      " |  ljust(self, width, fillchar=' ', /)\n",
      " |      Return a left-justified string of length width.\n",
      " |      \n",
      " |      Padding is done using the specified fill character (default is a space).\n",
      " |  \n",
      " |  lower(self, /)\n",
      " |      Return a copy of the string converted to lowercase.\n",
      " |  \n",
      " |  lstrip(self, chars=None, /)\n",
      " |      Return a copy of the string with leading whitespace removed.\n",
      " |      \n",
      " |      If chars is given and not None, remove characters in chars instead.\n",
      " |  \n",
      " |  partition(self, sep, /)\n",
      " |      Partition the string into three parts using the given separator.\n",
      " |      \n",
      " |      This will search for the separator in the string.  If the separator is found,\n",
      " |      returns a 3-tuple containing the part before the separator, the separator\n",
      " |      itself, and the part after it.\n",
      " |      \n",
      " |      If the separator is not found, returns a 3-tuple containing the original string\n",
      " |      and two empty strings.\n",
      " |  \n",
      " |  replace(self, old, new, count=-1, /)\n",
      " |      Return a copy with all occurrences of substring old replaced by new.\n",
      " |      \n",
      " |        count\n",
      " |          Maximum number of occurrences to replace.\n",
      " |          -1 (the default value) means replace all occurrences.\n",
      " |      \n",
      " |      If the optional argument count is given, only the first count occurrences are\n",
      " |      replaced.\n",
      " |  \n",
      " |  rfind(...)\n",
      " |      S.rfind(sub[, start[, end]]) -> int\n",
      " |      \n",
      " |      Return the highest index in S where substring sub is found,\n",
      " |      such that sub is contained within S[start:end].  Optional\n",
      " |      arguments start and end are interpreted as in slice notation.\n",
      " |      \n",
      " |      Return -1 on failure.\n",
      " |  \n",
      " |  rindex(...)\n",
      " |      S.rindex(sub[, start[, end]]) -> int\n",
      " |      \n",
      " |      Return the highest index in S where substring sub is found,\n",
      " |      such that sub is contained within S[start:end].  Optional\n",
      " |      arguments start and end are interpreted as in slice notation.\n",
      " |      \n",
      " |      Raises ValueError when the substring is not found.\n",
      " |  \n",
      " |  rjust(self, width, fillchar=' ', /)\n",
      " |      Return a right-justified string of length width.\n",
      " |      \n",
      " |      Padding is done using the specified fill character (default is a space).\n",
      " |  \n",
      " |  rpartition(self, sep, /)\n",
      " |      Partition the string into three parts using the given separator.\n",
      " |      \n",
      " |      This will search for the separator in the string, starting at the end. If\n",
      " |      the separator is found, returns a 3-tuple containing the part before the\n",
      " |      separator, the separator itself, and the part after it.\n",
      " |      \n",
      " |      If the separator is not found, returns a 3-tuple containing two empty strings\n",
      " |      and the original string.\n",
      " |  \n",
      " |  rsplit(self, /, sep=None, maxsplit=-1)\n",
      " |      Return a list of the words in the string, using sep as the delimiter string.\n",
      " |      \n",
      " |        sep\n",
      " |          The delimiter according which to split the string.\n",
      " |          None (the default value) means split according to any whitespace,\n",
      " |          and discard empty strings from the result.\n",
      " |        maxsplit\n",
      " |          Maximum number of splits to do.\n",
      " |          -1 (the default value) means no limit.\n",
      " |      \n",
      " |      Splits are done starting at the end of the string and working to the front.\n",
      " |  \n",
      " |  rstrip(self, chars=None, /)\n",
      " |      Return a copy of the string with trailing whitespace removed.\n",
      " |      \n",
      " |      If chars is given and not None, remove characters in chars instead.\n",
      " |  \n",
      " |  split(self, /, sep=None, maxsplit=-1)\n",
      " |      Return a list of the words in the string, using sep as the delimiter string.\n",
      " |      \n",
      " |      sep\n",
      " |        The delimiter according which to split the string.\n",
      " |        None (the default value) means split according to any whitespace,\n",
      " |        and discard empty strings from the result.\n",
      " |      maxsplit\n",
      " |        Maximum number of splits to do.\n",
      " |        -1 (the default value) means no limit.\n",
      " |  \n",
      " |  splitlines(self, /, keepends=False)\n",
      " |      Return a list of the lines in the string, breaking at line boundaries.\n",
      " |      \n",
      " |      Line breaks are not included in the resulting list unless keepends is given and\n",
      " |      true.\n",
      " |  \n",
      " |  startswith(...)\n",
      " |      S.startswith(prefix[, start[, end]]) -> bool\n",
      " |      \n",
      " |      Return True if S starts with the specified prefix, False otherwise.\n",
      " |      With optional start, test S beginning at that position.\n",
      " |      With optional end, stop comparing S at that position.\n",
      " |      prefix can also be a tuple of strings to try.\n",
      " |  \n",
      " |  strip(self, chars=None, /)\n",
      " |      Return a copy of the string with leading and trailing whitespace removed.\n",
      " |      \n",
      " |      If chars is given and not None, remove characters in chars instead.\n",
      " |  \n",
      " |  swapcase(self, /)\n",
      " |      Convert uppercase characters to lowercase and lowercase characters to uppercase.\n",
      " |  \n",
      " |  title(self, /)\n",
      " |      Return a version of the string where each word is titlecased.\n",
      " |      \n",
      " |      More specifically, words start with uppercased characters and all remaining\n",
      " |      cased characters have lower case.\n",
      " |  \n",
      " |  translate(self, table, /)\n",
      " |      Replace each character in the string using the given translation table.\n",
      " |      \n",
      " |        table\n",
      " |          Translation table, which must be a mapping of Unicode ordinals to\n",
      " |          Unicode ordinals, strings, or None.\n",
      " |      \n",
      " |      The table must implement lookup/indexing via __getitem__, for instance a\n",
      " |      dictionary or list.  If this operation raises LookupError, the character is\n",
      " |      left untouched.  Characters mapped to None are deleted.\n",
      " |  \n",
      " |  upper(self, /)\n",
      " |      Return a copy of the string converted to uppercase.\n",
      " |  \n",
      " |  zfill(self, width, /)\n",
      " |      Pad a numeric string with zeros on the left, to fill a field of the given width.\n",
      " |      \n",
      " |      The string is never truncated.\n",
      " |  \n",
      " |  ----------------------------------------------------------------------\n",
      " |  Static methods defined here:\n",
      " |  \n",
      " |  __new__(*args, **kwargs) from builtins.type\n",
      " |      Create and return a new object.  See help(type) for accurate signature.\n",
      " |  \n",
      " |  maketrans(...)\n",
      " |      Return a translation table usable for str.translate().\n",
      " |      \n",
      " |      If there is only one argument, it must be a dictionary mapping Unicode\n",
      " |      ordinals (integers) or characters to Unicode ordinals, strings or None.\n",
      " |      Character keys will be then converted to ordinals.\n",
      " |      If there are two arguments, they must be strings of equal length, and\n",
      " |      in the resulting dictionary, each character in x will be mapped to the\n",
      " |      character at the same position in y. If there is a third argument, it\n",
      " |      must be a string, whose characters will be mapped to None in the result.\n",
      "\n"
     ]
    }
   ],
   "source": [
    "help(str)"
   ]
  },
  {
   "cell_type": "code",
   "execution_count": 16,
   "metadata": {},
   "outputs": [],
   "source": [
    "?str"
   ]
  },
  {
   "cell_type": "markdown",
   "metadata": {},
   "source": [
    "#### 3.4.6 Измерение времени работы ячейки\n",
    "* **`%time`**\n",
    "\n",
    "Команда `%time` показывает сколько секунд выполнялось выражение:"
   ]
  },
  {
   "cell_type": "code",
   "execution_count": 17,
   "metadata": {},
   "outputs": [
    {
     "name": "stdout",
     "output_type": "stream",
     "text": [
      "Wall time: 0 ns\n"
     ]
    }
   ],
   "source": [
    "%time a = 50/1100516 * 542132 + 53213 + 98789 *500"
   ]
  },
  {
   "cell_type": "code",
   "execution_count": 18,
   "metadata": {},
   "outputs": [
    {
     "name": "stdout",
     "output_type": "stream",
     "text": [
      "Wall time: 12 ms\n"
     ]
    }
   ],
   "source": [
    "%%time\n",
    "# время выполнения всей ячейки,\n",
    "\n",
    "a = 0\n",
    "\n",
    "for i in range(100000):\n",
    "    a += 1"
   ]
  },
  {
   "cell_type": "markdown",
   "metadata": {},
   "source": [
    "#### 3.4.7 Markdown\n",
    "В Jupyter помимо ячеек с кодом можно добавить ячейку с текстом. Текст форматируется по правилам Markdown.  \n",
    "Краткое руководство по синтаксису Markdown - https://paulradzkov.com/2014/markdown_cheatsheet/"
   ]
  }
 ],
 "metadata": {
  "kernelspec": {
   "display_name": "Python 3",
   "language": "python",
   "name": "python3"
  },
  "language_info": {
   "codemirror_mode": {
    "name": "ipython",
    "version": 3
   },
   "file_extension": ".py",
   "mimetype": "text/x-python",
   "name": "python",
   "nbconvert_exporter": "python",
   "pygments_lexer": "ipython3",
   "version": "3.8.8"
  }
 },
 "nbformat": 4,
 "nbformat_minor": 4
}
